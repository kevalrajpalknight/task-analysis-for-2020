{
 "cells": [
  {
   "cell_type": "markdown",
   "metadata": {},
   "source": [
    "# Task Completion Analysis\n",
    "\n",
    "### Introduction\n",
    "This is the hobby project, as 2020 year was such a trauma for entire world. There were so many ups and downs for me personal. I was less productive then 2019 despite, I was been at home but still I am trying to analysis this year productive for myself and try to find the reason why, what were the reason for that, where did I lack my persistence.\n",
    "\n",
    "This project is created on 31/12/2020, I have tried to record the work which I accomplished as expected or the work I failed to accomplished. I tried to take some factor in consideration which might help me draw my analysis.\n",
    "\n",
    "\n",
    "From what I concluded 2020 for me was literally less productive but I found some part where I can improve myself in 2021.\n",
    "### About data\n",
    "<table style=\"float: left; margin-bottom: 10px;\" border=\"1\" cellpadding=\"5\">\n",
    "    <thead>\n",
    "        <tr>\n",
    "            <td>features name</td>\n",
    "            <td>description</td>\n",
    "        </tr>\n",
    "    </thead>\n",
    "    <tbody>\n",
    "        <tr>\n",
    "            <td>task_name</td>\n",
    "            <td>Name of Task</td>\n",
    "        </tr>\n",
    "        <tr>\n",
    "            <td>to_be_started</td>\n",
    "            <td>Number of days to start the task</td>\n",
    "        </tr>\n",
    "        <tr>\n",
    "            <td>level_of_persistence</td>\n",
    "            <td>My level of persistence about the task (rating on 5)</td>\n",
    "        </tr>\n",
    "        <tr>\n",
    "            <td>distraction</td>\n",
    "            <td>what was my distraction in the completion of the task</td>\n",
    "        </tr>\n",
    "        <tr>\n",
    "            <td>type_of_task</td>\n",
    "            <td>Duration of the task. Long Term (LT More than or equal to 1Year), Medium Term (MT less than 6 Months) and Short Term (ST less than 1 Month)</td>\n",
    "        </tr>\n",
    "        <tr>\n",
    "            <td>expected_time_required</td>\n",
    "            <td>How many hours its expected to be qualified to be completed.</td>\n",
    "        </tr>\n",
    "        <tr>\n",
    "            <td>actual_time_engaged</td>\n",
    "            <td>How much hours I was able to engage myself for that task</td>\n",
    "        </tr>\n",
    "        <tr>\n",
    "            <td>parallelism</td>\n",
    "            <td>Its boolean value N (Not doing something in parallel) and T (Doing something in parallel)</td>\n",
    "        </tr>\n",
    "        <tr>\n",
    "            <td>attempted_made</td>\n",
    "            <td>How many attempted I have made.</td>\n",
    "        </tr>\n",
    "        <tr>\n",
    "            <td>target_acheived</td>\n",
    "            <td>Its boolean value Y (Yes target is achieved) and N (No target was not acheived)</td>\n",
    "        </tr>\n",
    "    </tbody>\n",
    "</table>\n",
    "\n",
    "### Overview\n",
    "    1) Understand the shape of the data (Histograms, box plots, etc.)\n",
    "    2) Data Cleaning\n",
    "    3) Data Exploration\n",
    "    4) Key points"
   ]
  },
  {
   "cell_type": "code",
   "execution_count": null,
   "metadata": {},
   "outputs": [],
   "source": []
  },
  {
   "cell_type": "code",
   "execution_count": 244,
   "metadata": {},
   "outputs": [],
   "source": [
    "import pandas as pd\n",
    "import numpy as np\n",
    "import seaborn as sns\n",
    "from matplotlib import pyplot as plt\n",
    "import category_encoders as ce"
   ]
  },
  {
   "cell_type": "code",
   "execution_count": 245,
   "metadata": {},
   "outputs": [],
   "source": [
    "sns.set_style(\"whitegrid\")\n",
    "sns.set_palette(sns.color_palette(\"Set2\"))"
   ]
  },
  {
   "cell_type": "code",
   "execution_count": 246,
   "metadata": {},
   "outputs": [],
   "source": [
    "data = pd.read_excel(\n",
    "    \"task_data.xlsx\", \n",
    "    sheet_name=\"year2020\",\n",
    ")"
   ]
  },
  {
   "cell_type": "code",
   "execution_count": 247,
   "metadata": {},
   "outputs": [
    {
     "data": {
      "text/html": [
       "<div>\n",
       "<style scoped>\n",
       "    .dataframe tbody tr th:only-of-type {\n",
       "        vertical-align: middle;\n",
       "    }\n",
       "\n",
       "    .dataframe tbody tr th {\n",
       "        vertical-align: top;\n",
       "    }\n",
       "\n",
       "    .dataframe thead th {\n",
       "        text-align: right;\n",
       "    }\n",
       "</style>\n",
       "<table border=\"1\" class=\"dataframe\">\n",
       "  <thead>\n",
       "    <tr style=\"text-align: right;\">\n",
       "      <th></th>\n",
       "      <th>Task_Name</th>\n",
       "      <th>to_be_started</th>\n",
       "      <th>level_of_persistence</th>\n",
       "      <th>distraction</th>\n",
       "      <th>type_of_task</th>\n",
       "      <th>parallelism</th>\n",
       "      <th>attempts_made</th>\n",
       "      <th>interest_level</th>\n",
       "      <th>target_acheived</th>\n",
       "    </tr>\n",
       "  </thead>\n",
       "  <tbody>\n",
       "    <tr>\n",
       "      <td>0</td>\n",
       "      <td>Reading Book(Surely You're Joking Mr. Feynman)</td>\n",
       "      <td>0</td>\n",
       "      <td>3</td>\n",
       "      <td>shop</td>\n",
       "      <td>MT</td>\n",
       "      <td>T</td>\n",
       "      <td>0</td>\n",
       "      <td>3</td>\n",
       "      <td>N</td>\n",
       "    </tr>\n",
       "    <tr>\n",
       "      <td>1</td>\n",
       "      <td>Starting Research Paper</td>\n",
       "      <td>10</td>\n",
       "      <td>2</td>\n",
       "      <td>college studies</td>\n",
       "      <td>LT</td>\n",
       "      <td>T</td>\n",
       "      <td>4</td>\n",
       "      <td>2</td>\n",
       "      <td>N</td>\n",
       "    </tr>\n",
       "    <tr>\n",
       "      <td>2</td>\n",
       "      <td>Learning Python(Basics)</td>\n",
       "      <td>0</td>\n",
       "      <td>5</td>\n",
       "      <td>shop</td>\n",
       "      <td>ST</td>\n",
       "      <td>N</td>\n",
       "      <td>1</td>\n",
       "      <td>5</td>\n",
       "      <td>Y</td>\n",
       "    </tr>\n",
       "    <tr>\n",
       "      <td>3</td>\n",
       "      <td>NIMCET Prepration</td>\n",
       "      <td>0</td>\n",
       "      <td>4</td>\n",
       "      <td>college studies</td>\n",
       "      <td>MT</td>\n",
       "      <td>T</td>\n",
       "      <td>10</td>\n",
       "      <td>5</td>\n",
       "      <td>N</td>\n",
       "    </tr>\n",
       "    <tr>\n",
       "      <td>4</td>\n",
       "      <td>Reading Book(Karma Yoga)</td>\n",
       "      <td>0</td>\n",
       "      <td>3</td>\n",
       "      <td>college studies</td>\n",
       "      <td>ST</td>\n",
       "      <td>T</td>\n",
       "      <td>6</td>\n",
       "      <td>5</td>\n",
       "      <td>Y</td>\n",
       "    </tr>\n",
       "    <tr>\n",
       "      <td>5</td>\n",
       "      <td>Reading Book(The Alchemist)</td>\n",
       "      <td>0</td>\n",
       "      <td>5</td>\n",
       "      <td>NIL</td>\n",
       "      <td>ST</td>\n",
       "      <td>T</td>\n",
       "      <td>1</td>\n",
       "      <td>5</td>\n",
       "      <td>Y</td>\n",
       "    </tr>\n",
       "    <tr>\n",
       "      <td>6</td>\n",
       "      <td>Coursera Course(from U. Mich.)</td>\n",
       "      <td>0</td>\n",
       "      <td>5</td>\n",
       "      <td>college studies</td>\n",
       "      <td>ST</td>\n",
       "      <td>N</td>\n",
       "      <td>1</td>\n",
       "      <td>5</td>\n",
       "      <td>Y</td>\n",
       "    </tr>\n",
       "    <tr>\n",
       "      <td>7</td>\n",
       "      <td>Leather Defect Project</td>\n",
       "      <td>0</td>\n",
       "      <td>5</td>\n",
       "      <td>shop</td>\n",
       "      <td>MT</td>\n",
       "      <td>T</td>\n",
       "      <td>16</td>\n",
       "      <td>3</td>\n",
       "      <td>N</td>\n",
       "    </tr>\n",
       "    <tr>\n",
       "      <td>8</td>\n",
       "      <td>Boycotting Fastfood</td>\n",
       "      <td>1</td>\n",
       "      <td>2</td>\n",
       "      <td>friends</td>\n",
       "      <td>LT</td>\n",
       "      <td>N</td>\n",
       "      <td>20</td>\n",
       "      <td>3</td>\n",
       "      <td>N</td>\n",
       "    </tr>\n",
       "    <tr>\n",
       "      <td>9</td>\n",
       "      <td>Summer Internship</td>\n",
       "      <td>0</td>\n",
       "      <td>5</td>\n",
       "      <td>NIL</td>\n",
       "      <td>ST</td>\n",
       "      <td>N</td>\n",
       "      <td>1</td>\n",
       "      <td>5</td>\n",
       "      <td>Y</td>\n",
       "    </tr>\n",
       "    <tr>\n",
       "      <td>10</td>\n",
       "      <td>Exercise Daily</td>\n",
       "      <td>1</td>\n",
       "      <td>5</td>\n",
       "      <td>other work</td>\n",
       "      <td>MT</td>\n",
       "      <td>N</td>\n",
       "      <td>5</td>\n",
       "      <td>5</td>\n",
       "      <td>N</td>\n",
       "    </tr>\n",
       "    <tr>\n",
       "      <td>11</td>\n",
       "      <td>Data Structures</td>\n",
       "      <td>2</td>\n",
       "      <td>5</td>\n",
       "      <td>college studies</td>\n",
       "      <td>ST</td>\n",
       "      <td>T</td>\n",
       "      <td>4</td>\n",
       "      <td>2</td>\n",
       "      <td>N</td>\n",
       "    </tr>\n",
       "    <tr>\n",
       "      <td>12</td>\n",
       "      <td>Basic Competitive Programming</td>\n",
       "      <td>0</td>\n",
       "      <td>3</td>\n",
       "      <td>college studies</td>\n",
       "      <td>ST</td>\n",
       "      <td>T</td>\n",
       "      <td>3</td>\n",
       "      <td>3</td>\n",
       "      <td>Y</td>\n",
       "    </tr>\n",
       "    <tr>\n",
       "      <td>13</td>\n",
       "      <td>Parkour</td>\n",
       "      <td>0</td>\n",
       "      <td>3</td>\n",
       "      <td>college studies</td>\n",
       "      <td>ST</td>\n",
       "      <td>T</td>\n",
       "      <td>2</td>\n",
       "      <td>4</td>\n",
       "      <td>N</td>\n",
       "    </tr>\n",
       "    <tr>\n",
       "      <td>14</td>\n",
       "      <td>Coursera Course(from John Hopkins)</td>\n",
       "      <td>0</td>\n",
       "      <td>2</td>\n",
       "      <td>NIL</td>\n",
       "      <td>ST</td>\n",
       "      <td>T</td>\n",
       "      <td>1</td>\n",
       "      <td>2</td>\n",
       "      <td>Y</td>\n",
       "    </tr>\n",
       "    <tr>\n",
       "      <td>15</td>\n",
       "      <td>Tensorflow Course</td>\n",
       "      <td>0</td>\n",
       "      <td>3</td>\n",
       "      <td>college studies</td>\n",
       "      <td>ST</td>\n",
       "      <td>T</td>\n",
       "      <td>3</td>\n",
       "      <td>4</td>\n",
       "      <td>N</td>\n",
       "    </tr>\n",
       "    <tr>\n",
       "      <td>16</td>\n",
       "      <td>Django Course</td>\n",
       "      <td>0</td>\n",
       "      <td>4</td>\n",
       "      <td>shop</td>\n",
       "      <td>ST</td>\n",
       "      <td>T</td>\n",
       "      <td>5</td>\n",
       "      <td>4</td>\n",
       "      <td>Y</td>\n",
       "    </tr>\n",
       "    <tr>\n",
       "      <td>17</td>\n",
       "      <td>Reading Book</td>\n",
       "      <td>0</td>\n",
       "      <td>5</td>\n",
       "      <td>shop</td>\n",
       "      <td>ST</td>\n",
       "      <td>T</td>\n",
       "      <td>1</td>\n",
       "      <td>5</td>\n",
       "      <td>Y</td>\n",
       "    </tr>\n",
       "    <tr>\n",
       "      <td>18</td>\n",
       "      <td>Eyeskart startup</td>\n",
       "      <td>10</td>\n",
       "      <td>5</td>\n",
       "      <td>shop</td>\n",
       "      <td>ST</td>\n",
       "      <td>N</td>\n",
       "      <td>7</td>\n",
       "      <td>4</td>\n",
       "      <td>N</td>\n",
       "    </tr>\n",
       "    <tr>\n",
       "      <td>19</td>\n",
       "      <td>Swayam Ceritification</td>\n",
       "      <td>1</td>\n",
       "      <td>4</td>\n",
       "      <td>social media</td>\n",
       "      <td>MT</td>\n",
       "      <td>T</td>\n",
       "      <td>2</td>\n",
       "      <td>4</td>\n",
       "      <td>Y</td>\n",
       "    </tr>\n",
       "    <tr>\n",
       "      <td>20</td>\n",
       "      <td>Anger Management</td>\n",
       "      <td>0</td>\n",
       "      <td>5</td>\n",
       "      <td>other work</td>\n",
       "      <td>LT</td>\n",
       "      <td>T</td>\n",
       "      <td>60</td>\n",
       "      <td>2</td>\n",
       "      <td>N</td>\n",
       "    </tr>\n",
       "    <tr>\n",
       "      <td>21</td>\n",
       "      <td>Boycotting Tea</td>\n",
       "      <td>1</td>\n",
       "      <td>2</td>\n",
       "      <td>friends</td>\n",
       "      <td>LT</td>\n",
       "      <td>T</td>\n",
       "      <td>30</td>\n",
       "      <td>2</td>\n",
       "      <td>N</td>\n",
       "    </tr>\n",
       "    <tr>\n",
       "      <td>22</td>\n",
       "      <td>Boycotting Listening Rap</td>\n",
       "      <td>0</td>\n",
       "      <td>3</td>\n",
       "      <td>other work</td>\n",
       "      <td>MT</td>\n",
       "      <td>T</td>\n",
       "      <td>10</td>\n",
       "      <td>3</td>\n",
       "      <td>N</td>\n",
       "    </tr>\n",
       "    <tr>\n",
       "      <td>23</td>\n",
       "      <td>Boycotting PUBG</td>\n",
       "      <td>1</td>\n",
       "      <td>4</td>\n",
       "      <td>friends</td>\n",
       "      <td>MT</td>\n",
       "      <td>T</td>\n",
       "      <td>1</td>\n",
       "      <td>4</td>\n",
       "      <td>Y</td>\n",
       "    </tr>\n",
       "    <tr>\n",
       "      <td>24</td>\n",
       "      <td>CRD Project</td>\n",
       "      <td>2</td>\n",
       "      <td>1</td>\n",
       "      <td>other work</td>\n",
       "      <td>ST</td>\n",
       "      <td>T</td>\n",
       "      <td>1</td>\n",
       "      <td>1</td>\n",
       "      <td>N</td>\n",
       "    </tr>\n",
       "  </tbody>\n",
       "</table>\n",
       "</div>"
      ],
      "text/plain": [
       "                                         Task_Name  to_be_started  \\\n",
       "0   Reading Book(Surely You're Joking Mr. Feynman)              0   \n",
       "1                          Starting Research Paper             10   \n",
       "2                          Learning Python(Basics)              0   \n",
       "3                                NIMCET Prepration              0   \n",
       "4                         Reading Book(Karma Yoga)              0   \n",
       "5                      Reading Book(The Alchemist)              0   \n",
       "6                   Coursera Course(from U. Mich.)              0   \n",
       "7                           Leather Defect Project              0   \n",
       "8                              Boycotting Fastfood              1   \n",
       "9                                Summer Internship              0   \n",
       "10                                  Exercise Daily              1   \n",
       "11                                 Data Structures              2   \n",
       "12                   Basic Competitive Programming              0   \n",
       "13                                         Parkour              0   \n",
       "14              Coursera Course(from John Hopkins)              0   \n",
       "15                               Tensorflow Course              0   \n",
       "16                                   Django Course              0   \n",
       "17                                    Reading Book              0   \n",
       "18                                Eyeskart startup             10   \n",
       "19                           Swayam Ceritification              1   \n",
       "20                                Anger Management              0   \n",
       "21                                  Boycotting Tea              1   \n",
       "22                        Boycotting Listening Rap              0   \n",
       "23                                 Boycotting PUBG              1   \n",
       "24                                     CRD Project              2   \n",
       "\n",
       "    level_of_persistence      distraction type_of_task parallelism  \\\n",
       "0                      3             shop           MT           T   \n",
       "1                      2  college studies           LT           T   \n",
       "2                      5             shop           ST           N   \n",
       "3                      4  college studies           MT           T   \n",
       "4                      3  college studies           ST           T   \n",
       "5                      5              NIL           ST           T   \n",
       "6                      5  college studies           ST           N   \n",
       "7                      5             shop           MT           T   \n",
       "8                      2          friends           LT           N   \n",
       "9                      5              NIL           ST           N   \n",
       "10                     5       other work           MT           N   \n",
       "11                     5  college studies           ST           T   \n",
       "12                     3  college studies           ST           T   \n",
       "13                     3  college studies           ST           T   \n",
       "14                     2              NIL           ST           T   \n",
       "15                     3  college studies           ST           T   \n",
       "16                     4             shop           ST           T   \n",
       "17                     5             shop           ST           T   \n",
       "18                     5             shop           ST           N   \n",
       "19                     4     social media           MT           T   \n",
       "20                     5       other work           LT           T   \n",
       "21                     2          friends           LT           T   \n",
       "22                     3       other work           MT           T   \n",
       "23                     4          friends           MT           T   \n",
       "24                     1       other work           ST           T   \n",
       "\n",
       "     attempts_made  interest_level  target_acheived  \n",
       "0                0               3                N  \n",
       "1                4               2                N  \n",
       "2                1               5                Y  \n",
       "3               10               5                N  \n",
       "4                6               5                Y  \n",
       "5                1               5                Y  \n",
       "6                1               5                Y  \n",
       "7               16               3                N  \n",
       "8               20               3                N  \n",
       "9                1               5                Y  \n",
       "10               5               5                N  \n",
       "11               4               2                N  \n",
       "12               3               3                Y  \n",
       "13               2               4                N  \n",
       "14               1               2                Y  \n",
       "15               3               4                N  \n",
       "16               5               4                Y  \n",
       "17               1               5                Y  \n",
       "18               7               4                N  \n",
       "19               2               4                Y  \n",
       "20              60               2                N  \n",
       "21              30               2                N  \n",
       "22              10               3                N  \n",
       "23               1               4                Y  \n",
       "24               1               1                N  "
      ]
     },
     "execution_count": 247,
     "metadata": {},
     "output_type": "execute_result"
    }
   ],
   "source": [
    "data.head(25)"
   ]
  },
  {
   "cell_type": "code",
   "execution_count": 248,
   "metadata": {},
   "outputs": [
    {
     "name": "stdout",
     "output_type": "stream",
     "text": [
      "<class 'pandas.core.frame.DataFrame'>\n",
      "RangeIndex: 25 entries, 0 to 24\n",
      "Data columns (total 9 columns):\n",
      "Task_Name               25 non-null object\n",
      "to_be_started           25 non-null int64\n",
      "level_of_persistence    25 non-null int64\n",
      "distraction             25 non-null object\n",
      "type_of_task            25 non-null object\n",
      "parallelism             25 non-null object\n",
      " attempts_made          25 non-null int64\n",
      "interest_level          25 non-null int64\n",
      " target_acheived        25 non-null object\n",
      "dtypes: int64(4), object(5)\n",
      "memory usage: 1.9+ KB\n"
     ]
    }
   ],
   "source": [
    "data.info()"
   ]
  },
  {
   "cell_type": "code",
   "execution_count": 249,
   "metadata": {},
   "outputs": [
    {
     "data": {
      "text/html": [
       "<div>\n",
       "<style scoped>\n",
       "    .dataframe tbody tr th:only-of-type {\n",
       "        vertical-align: middle;\n",
       "    }\n",
       "\n",
       "    .dataframe tbody tr th {\n",
       "        vertical-align: top;\n",
       "    }\n",
       "\n",
       "    .dataframe thead th {\n",
       "        text-align: right;\n",
       "    }\n",
       "</style>\n",
       "<table border=\"1\" class=\"dataframe\">\n",
       "  <thead>\n",
       "    <tr style=\"text-align: right;\">\n",
       "      <th></th>\n",
       "      <th>to_be_started</th>\n",
       "      <th>level_of_persistence</th>\n",
       "      <th>attempts_made</th>\n",
       "      <th>interest_level</th>\n",
       "    </tr>\n",
       "  </thead>\n",
       "  <tbody>\n",
       "    <tr>\n",
       "      <td>count</td>\n",
       "      <td>25.00000</td>\n",
       "      <td>25.000000</td>\n",
       "      <td>25.000000</td>\n",
       "      <td>25.000000</td>\n",
       "    </tr>\n",
       "    <tr>\n",
       "      <td>mean</td>\n",
       "      <td>1.16000</td>\n",
       "      <td>3.720000</td>\n",
       "      <td>7.800000</td>\n",
       "      <td>3.600000</td>\n",
       "    </tr>\n",
       "    <tr>\n",
       "      <td>std</td>\n",
       "      <td>2.73374</td>\n",
       "      <td>1.275408</td>\n",
       "      <td>12.967909</td>\n",
       "      <td>1.258306</td>\n",
       "    </tr>\n",
       "    <tr>\n",
       "      <td>min</td>\n",
       "      <td>0.00000</td>\n",
       "      <td>1.000000</td>\n",
       "      <td>0.000000</td>\n",
       "      <td>1.000000</td>\n",
       "    </tr>\n",
       "    <tr>\n",
       "      <td>25%</td>\n",
       "      <td>0.00000</td>\n",
       "      <td>3.000000</td>\n",
       "      <td>1.000000</td>\n",
       "      <td>3.000000</td>\n",
       "    </tr>\n",
       "    <tr>\n",
       "      <td>50%</td>\n",
       "      <td>0.00000</td>\n",
       "      <td>4.000000</td>\n",
       "      <td>3.000000</td>\n",
       "      <td>4.000000</td>\n",
       "    </tr>\n",
       "    <tr>\n",
       "      <td>75%</td>\n",
       "      <td>1.00000</td>\n",
       "      <td>5.000000</td>\n",
       "      <td>7.000000</td>\n",
       "      <td>5.000000</td>\n",
       "    </tr>\n",
       "    <tr>\n",
       "      <td>max</td>\n",
       "      <td>10.00000</td>\n",
       "      <td>5.000000</td>\n",
       "      <td>60.000000</td>\n",
       "      <td>5.000000</td>\n",
       "    </tr>\n",
       "  </tbody>\n",
       "</table>\n",
       "</div>"
      ],
      "text/plain": [
       "       to_be_started  level_of_persistence   attempts_made  interest_level\n",
       "count       25.00000             25.000000       25.000000       25.000000\n",
       "mean         1.16000              3.720000        7.800000        3.600000\n",
       "std          2.73374              1.275408       12.967909        1.258306\n",
       "min          0.00000              1.000000        0.000000        1.000000\n",
       "25%          0.00000              3.000000        1.000000        3.000000\n",
       "50%          0.00000              4.000000        3.000000        4.000000\n",
       "75%          1.00000              5.000000        7.000000        5.000000\n",
       "max         10.00000              5.000000       60.000000        5.000000"
      ]
     },
     "execution_count": 249,
     "metadata": {},
     "output_type": "execute_result"
    }
   ],
   "source": [
    "data.describe()"
   ]
  },
  {
   "cell_type": "code",
   "execution_count": 250,
   "metadata": {},
   "outputs": [
    {
     "data": {
      "text/plain": [
       "Index(['Task_Name', 'to_be_started', 'level_of_persistence', 'distraction',\n",
       "       'type_of_task', 'parallelism', ' attempts_made', 'interest_level',\n",
       "       ' target_acheived'],\n",
       "      dtype='object')"
      ]
     },
     "execution_count": 250,
     "metadata": {},
     "output_type": "execute_result"
    }
   ],
   "source": [
    "columns  = data.columns\n",
    "columns"
   ]
  },
  {
   "cell_type": "code",
   "execution_count": 251,
   "metadata": {},
   "outputs": [
    {
     "data": {
      "text/plain": [
       "Index(['Task_Name', 'to_be_started', 'level_of_persistence', 'distraction',\n",
       "       'type_of_task', 'parallelism', 'attempts_made', 'interest_level',\n",
       "       'target_acheived'],\n",
       "      dtype='object')"
      ]
     },
     "execution_count": 251,
     "metadata": {},
     "output_type": "execute_result"
    }
   ],
   "source": [
    "columns = columns.str.strip()\n",
    "data.columns = columns\n",
    "data.columns"
   ]
  },
  {
   "cell_type": "markdown",
   "metadata": {},
   "source": [
    "It hurt's me that I had less productive year. About the gap of 20% over Successfull task I have completed."
   ]
  },
  {
   "cell_type": "code",
   "execution_count": 252,
   "metadata": {
    "scrolled": true
   },
   "outputs": [
    {
     "data": {
      "image/png": "[encoded data removed]",
      "text/plain": [
       "<Figure size 432x288 with 1 Axes>"
      ]
     },
     "metadata": {},
     "output_type": "display_data"
    }
   ],
   "source": [
    "sns.countplot(x=data[\"target_acheived\"])\n",
    "plt.show()"
   ]
  },
  {
   "cell_type": "code",
   "execution_count": 253,
   "metadata": {},
   "outputs": [
    {
     "data": {
      "image/png": "[encoded data removed]",
      "text/plain": [
       "<Figure size 432x288 with 1 Axes>"
      ]
     },
     "metadata": {},
     "output_type": "display_data"
    },
    {
     "data": {
      "text/plain": [
       "ST    14\n",
       "MT     7\n",
       "LT     4\n",
       "Name: type_of_task, dtype: int64"
      ]
     },
     "execution_count": 253,
     "metadata": {},
     "output_type": "execute_result"
    }
   ],
   "source": [
    "sns.countplot(x=data[\"type_of_task\"])\n",
    "plt.show()\n",
    "\n",
    "data[\"type_of_task\"].value_counts()"
   ]
  },
  {
   "cell_type": "markdown",
   "metadata": {},
   "source": [
    "Maybe in 2021 I should avoid parallelism, try to avoid doing two or more task simuntaneously. As the graph shows that Parallelism had played major role in why I couldn't acheived my targets. About 26% of my failure in any task was because of attempting to do two or more task simuntaneously. Also, The failure rate was high because one was done in simuntaneous to other might also lead the result of other to be failed."
   ]
  },
  {
   "cell_type": "code",
   "execution_count": 254,
   "metadata": {},
   "outputs": [
    {
     "data": {
      "image/png": "[encoded data removed]",
      "text/plain": [
       "<Figure size 432x288 with 1 Axes>"
      ]
     },
     "metadata": {},
     "output_type": "display_data"
    }
   ],
   "source": [
    "sns.countplot(x=data[\"parallelism\"], hue=data[\"target_acheived\"])\n",
    "plt.show()"
   ]
  },
  {
   "cell_type": "markdown",
   "metadata": {},
   "source": [
    "Well as from below graph, In 2020 college studies is major factor of being less productive. So, in 2021 I will be more productive cause I have come completed my graduation ✌. As for other work, I must try to avoid them to do in parallel."
   ]
  },
  {
   "cell_type": "code",
   "execution_count": 255,
   "metadata": {},
   "outputs": [
    {
     "data": {
      "image/png": "[encoded data removed]",
      "text/plain": [
       "<Figure size 432x288 with 1 Axes>"
      ]
     },
     "metadata": {},
     "output_type": "display_data"
    }
   ],
   "source": [
    "sns.countplot(x=data[\"distraction\"], hue=data[\"target_acheived\"])\n",
    "plt.show()"
   ]
  },
  {
   "cell_type": "markdown",
   "metadata": {},
   "source": [
    "No doubt about it, These failure would have shown some corelation with my interest level about any task."
   ]
  },
  {
   "cell_type": "code",
   "execution_count": 256,
   "metadata": {},
   "outputs": [
    {
     "data": {
      "image/png": "[encoded data removed]",
      "text/plain": [
       "<Figure size 432x288 with 1 Axes>"
      ]
     },
     "metadata": {},
     "output_type": "display_data"
    }
   ],
   "source": [
    "sns.countplot(x=data[\"interest_level\"], hue=data[\"target_acheived\"])\n",
    "plt.show()"
   ]
  },
  {
   "cell_type": "markdown",
   "metadata": {},
   "source": [
    "I have majorly acheived the short-term target. So in 2021 I should try to break the down the targets based on monthly based."
   ]
  },
  {
   "cell_type": "code",
   "execution_count": 257,
   "metadata": {},
   "outputs": [
    {
     "data": {
      "image/png": "[encoded data removed]",
      "text/plain": [
       "<Figure size 432x288 with 1 Axes>"
      ]
     },
     "metadata": {},
     "output_type": "display_data"
    }
   ],
   "source": [
    "sns.countplot(x=data[\"type_of_task\"], hue=data[\"target_acheived\"],order=[\"ST\", \"MT\", \"LT\"])\n",
    "plt.show()"
   ]
  },
  {
   "cell_type": "markdown",
   "metadata": {},
   "source": [
    "It seems that If I do things in one attempt it like to be finish successfully. If its delayed then it have higher chances of getting failed. Higher the attempts made then higher the changes of getting it to be failed."
   ]
  },
  {
   "cell_type": "code",
   "execution_count": 258,
   "metadata": {},
   "outputs": [
    {
     "data": {
      "image/png": "[encoded data removed]",
      "text/plain": [
       "<Figure size 432x288 with 1 Axes>"
      ]
     },
     "metadata": {},
     "output_type": "display_data"
    }
   ],
   "source": [
    "sns.countplot(x=data[\"attempts_made\"], hue=data[\"target_acheived\"],)\n",
    "plt.show()"
   ]
  },
  {
   "cell_type": "code",
   "execution_count": 260,
   "metadata": {},
   "outputs": [
    {
     "data": {
      "text/html": [
       "<div>\n",
       "<style scoped>\n",
       "    .dataframe tbody tr th:only-of-type {\n",
       "        vertical-align: middle;\n",
       "    }\n",
       "\n",
       "    .dataframe tbody tr th {\n",
       "        vertical-align: top;\n",
       "    }\n",
       "\n",
       "    .dataframe thead th {\n",
       "        text-align: right;\n",
       "    }\n",
       "</style>\n",
       "<table border=\"1\" class=\"dataframe\">\n",
       "  <thead>\n",
       "    <tr style=\"text-align: right;\">\n",
       "      <th></th>\n",
       "      <th>attempts_made</th>\n",
       "      <th>interest_level</th>\n",
       "      <th>level_of_persistence</th>\n",
       "      <th>to_be_started</th>\n",
       "    </tr>\n",
       "    <tr>\n",
       "      <th>target_acheived</th>\n",
       "      <th></th>\n",
       "      <th></th>\n",
       "      <th></th>\n",
       "      <th></th>\n",
       "    </tr>\n",
       "  </thead>\n",
       "  <tbody>\n",
       "    <tr>\n",
       "      <td>N</td>\n",
       "      <td>12.285714</td>\n",
       "      <td>3.071429</td>\n",
       "      <td>3.428571</td>\n",
       "      <td>1.928571</td>\n",
       "    </tr>\n",
       "    <tr>\n",
       "      <td>Y</td>\n",
       "      <td>2.090909</td>\n",
       "      <td>4.272727</td>\n",
       "      <td>4.090909</td>\n",
       "      <td>0.181818</td>\n",
       "    </tr>\n",
       "  </tbody>\n",
       "</table>\n",
       "</div>"
      ],
      "text/plain": [
       "                 attempts_made  interest_level  level_of_persistence  \\\n",
       "target_acheived                                                        \n",
       "N                    12.285714        3.071429              3.428571   \n",
       "Y                     2.090909        4.272727              4.090909   \n",
       "\n",
       "                 to_be_started  \n",
       "target_acheived                 \n",
       "N                     1.928571  \n",
       "Y                     0.181818  "
      ]
     },
     "execution_count": 260,
     "metadata": {},
     "output_type": "execute_result"
    }
   ],
   "source": [
    "table  = pd.pivot_table(\n",
    "    data,\n",
    "    index=\"target_acheived\",\n",
    "    values=['to_be_started', 'level_of_persistence', 'distraction',\n",
    "       'type_of_task', 'parallelism', 'attempts_made', 'interest_level'],\n",
    "    aggfunc=np.nanmean,\n",
    ")\n",
    "table"
   ]
  },
  {
   "cell_type": "code",
   "execution_count": 261,
   "metadata": {},
   "outputs": [
    {
     "data": {
      "text/html": [
       "<div>\n",
       "<style scoped>\n",
       "    .dataframe tbody tr th:only-of-type {\n",
       "        vertical-align: middle;\n",
       "    }\n",
       "\n",
       "    .dataframe tbody tr th {\n",
       "        vertical-align: top;\n",
       "    }\n",
       "\n",
       "    .dataframe thead th {\n",
       "        text-align: right;\n",
       "    }\n",
       "</style>\n",
       "<table border=\"1\" class=\"dataframe\">\n",
       "  <thead>\n",
       "    <tr style=\"text-align: right;\">\n",
       "      <th>type_of_task</th>\n",
       "      <th>LT</th>\n",
       "      <th>MT</th>\n",
       "      <th>ST</th>\n",
       "      <th>All</th>\n",
       "    </tr>\n",
       "    <tr>\n",
       "      <th>target_acheived</th>\n",
       "      <th></th>\n",
       "      <th></th>\n",
       "      <th></th>\n",
       "      <th></th>\n",
       "    </tr>\n",
       "  </thead>\n",
       "  <tbody>\n",
       "    <tr>\n",
       "      <td>N</td>\n",
       "      <td>4</td>\n",
       "      <td>5</td>\n",
       "      <td>5</td>\n",
       "      <td>14</td>\n",
       "    </tr>\n",
       "    <tr>\n",
       "      <td>Y</td>\n",
       "      <td>0</td>\n",
       "      <td>2</td>\n",
       "      <td>9</td>\n",
       "      <td>11</td>\n",
       "    </tr>\n",
       "    <tr>\n",
       "      <td>All</td>\n",
       "      <td>4</td>\n",
       "      <td>7</td>\n",
       "      <td>14</td>\n",
       "      <td>25</td>\n",
       "    </tr>\n",
       "  </tbody>\n",
       "</table>\n",
       "</div>"
      ],
      "text/plain": [
       "type_of_task     LT  MT  ST  All\n",
       "target_acheived                 \n",
       "N                 4   5   5   14\n",
       "Y                 0   2   9   11\n",
       "All               4   7  14   25"
      ]
     },
     "execution_count": 261,
     "metadata": {},
     "output_type": "execute_result"
    }
   ],
   "source": [
    "pd.pivot_table(\n",
    "    data,\n",
    "    index=\"target_acheived\",\n",
    "    columns='type_of_task',\n",
    "    values='distraction',\n",
    "    aggfunc='count',\n",
    "    fill_value=0,\n",
    "    margins=True\n",
    ")"
   ]
  },
  {
   "cell_type": "markdown",
   "metadata": {},
   "source": [
    "For 2020, Only for short-term task I was able to overcome over distractions. For Long-term and Medium term I was easily carried away by them. It's tell me about my nature I need to be little more persistent about any task that I am assigned to."
   ]
  },
  {
   "cell_type": "code",
   "execution_count": 262,
   "metadata": {},
   "outputs": [
    {
     "name": "stderr",
     "output_type": "stream",
     "text": [
      "C:\\ProgramData\\Anaconda3\\lib\\site-packages\\seaborn\\axisgrid.py:715: UserWarning: Using the countplot function without specifying `order` is likely to produce an incorrect plot.\n",
      "  warnings.warn(warning)\n"
     ]
    },
    {
     "data": {
      "image/png": "[encoded data removed]",
      "text/plain": [
       "<Figure size 655.5x432 with 3 Axes>"
      ]
     },
     "metadata": {},
     "output_type": "display_data"
    }
   ],
   "source": [
    "task_type_counts = data[\"type_of_task\"].value_counts().index\n",
    "g = sns.FacetGrid(data, row=\"type_of_task\", hue=\"target_acheived\", row_order=task_type_counts,\n",
    "                  height=2, aspect=4)\n",
    "g.map(sns.countplot, \"distraction\", alpha=0.6)\n",
    "g.add_legend()\n",
    "plt.show()"
   ]
  },
  {
   "cell_type": "code",
   "execution_count": 263,
   "metadata": {},
   "outputs": [
    {
     "data": {
      "text/html": [
       "<div>\n",
       "<style scoped>\n",
       "    .dataframe tbody tr th:only-of-type {\n",
       "        vertical-align: middle;\n",
       "    }\n",
       "\n",
       "    .dataframe tbody tr th {\n",
       "        vertical-align: top;\n",
       "    }\n",
       "\n",
       "    .dataframe thead th {\n",
       "        text-align: right;\n",
       "    }\n",
       "</style>\n",
       "<table border=\"1\" class=\"dataframe\">\n",
       "  <thead>\n",
       "    <tr style=\"text-align: right;\">\n",
       "      <th>type_of_task</th>\n",
       "      <th>LT</th>\n",
       "      <th>MT</th>\n",
       "      <th>ST</th>\n",
       "    </tr>\n",
       "    <tr>\n",
       "      <th>distraction</th>\n",
       "      <th></th>\n",
       "      <th></th>\n",
       "      <th></th>\n",
       "    </tr>\n",
       "  </thead>\n",
       "  <tbody>\n",
       "    <tr>\n",
       "      <td>college studies</td>\n",
       "      <td>1</td>\n",
       "      <td>1</td>\n",
       "      <td>3</td>\n",
       "    </tr>\n",
       "    <tr>\n",
       "      <td>friends</td>\n",
       "      <td>2</td>\n",
       "      <td>0</td>\n",
       "      <td>0</td>\n",
       "    </tr>\n",
       "    <tr>\n",
       "      <td>other work</td>\n",
       "      <td>1</td>\n",
       "      <td>2</td>\n",
       "      <td>1</td>\n",
       "    </tr>\n",
       "    <tr>\n",
       "      <td>shop</td>\n",
       "      <td>0</td>\n",
       "      <td>2</td>\n",
       "      <td>1</td>\n",
       "    </tr>\n",
       "  </tbody>\n",
       "</table>\n",
       "</div>"
      ],
      "text/plain": [
       "type_of_task     LT  MT  ST\n",
       "distraction                \n",
       "college studies   1   1   3\n",
       "friends           2   0   0\n",
       "other work        1   2   1\n",
       "shop              0   2   1"
      ]
     },
     "execution_count": 263,
     "metadata": {},
     "output_type": "execute_result"
    }
   ],
   "source": [
    "pd.pivot_table(\n",
    "    data[data[\"target_acheived\"]==\"N\"],\n",
    "    index=\"distraction\",\n",
    "    columns='type_of_task',\n",
    "    values='target_acheived',\n",
    "    aggfunc='count',\n",
    "    fill_value=0\n",
    ")"
   ]
  },
  {
   "cell_type": "code",
   "execution_count": 264,
   "metadata": {},
   "outputs": [
    {
     "data": {
      "text/html": [
       "<div>\n",
       "<style scoped>\n",
       "    .dataframe tbody tr th:only-of-type {\n",
       "        vertical-align: middle;\n",
       "    }\n",
       "\n",
       "    .dataframe tbody tr th {\n",
       "        vertical-align: top;\n",
       "    }\n",
       "\n",
       "    .dataframe thead th {\n",
       "        text-align: right;\n",
       "    }\n",
       "</style>\n",
       "<table border=\"1\" class=\"dataframe\">\n",
       "  <thead>\n",
       "    <tr style=\"text-align: right;\">\n",
       "      <th>type_of_task</th>\n",
       "      <th>MT</th>\n",
       "      <th>ST</th>\n",
       "    </tr>\n",
       "    <tr>\n",
       "      <th>distraction</th>\n",
       "      <th></th>\n",
       "      <th></th>\n",
       "    </tr>\n",
       "  </thead>\n",
       "  <tbody>\n",
       "    <tr>\n",
       "      <td>NIL</td>\n",
       "      <td>0</td>\n",
       "      <td>3</td>\n",
       "    </tr>\n",
       "    <tr>\n",
       "      <td>college studies</td>\n",
       "      <td>0</td>\n",
       "      <td>3</td>\n",
       "    </tr>\n",
       "    <tr>\n",
       "      <td>friends</td>\n",
       "      <td>1</td>\n",
       "      <td>0</td>\n",
       "    </tr>\n",
       "    <tr>\n",
       "      <td>shop</td>\n",
       "      <td>0</td>\n",
       "      <td>3</td>\n",
       "    </tr>\n",
       "    <tr>\n",
       "      <td>social media</td>\n",
       "      <td>1</td>\n",
       "      <td>0</td>\n",
       "    </tr>\n",
       "  </tbody>\n",
       "</table>\n",
       "</div>"
      ],
      "text/plain": [
       "type_of_task     MT  ST\n",
       "distraction            \n",
       "NIL               0   3\n",
       "college studies   0   3\n",
       "friends           1   0\n",
       "shop              0   3\n",
       "social media      1   0"
      ]
     },
     "execution_count": 264,
     "metadata": {},
     "output_type": "execute_result"
    }
   ],
   "source": [
    "pd.pivot_table(\n",
    "    data[data[\"target_acheived\"]==\"Y\"],\n",
    "    index=\"distraction\",\n",
    "    columns='type_of_task',\n",
    "    values='target_acheived',\n",
    "    aggfunc='count',\n",
    "    fill_value=0\n",
    ")"
   ]
  },
  {
   "cell_type": "markdown",
   "metadata": {},
   "source": [
    "Let's check the persistent level of any task and actually completing that task.\n",
    "<b>level_of_persistence vs target_acheived</b>"
   ]
  },
  {
   "cell_type": "code",
   "execution_count": 265,
   "metadata": {},
   "outputs": [
    {
     "data": {
      "image/png": "[encoded data removed]",
      "text/plain": [
       "<Figure size 432x288 with 1 Axes>"
      ]
     },
     "metadata": {},
     "output_type": "display_data"
    }
   ],
   "source": [
    "sns.countplot(x=data[\"level_of_persistence\"], hue=data[\"target_acheived\"],)\n",
    "plt.show()"
   ]
  },
  {
   "cell_type": "markdown",
   "metadata": {},
   "source": [
    "As per the above graph, My persistence level what I expect my for completing the task but I am not that persistent. We must also have a close look for these successfully completed task based on type_of_task. Maybe these were ST and MT task therefore I was persistent for short term period. But It should also be considered that there is imbalance in data.\n",
    "<br><br>\n",
    "<table >\n",
    "    <thead>\n",
    "        <tr>\n",
    "          <th>type_of_task</th>\n",
    "          <th>no. of task</th>\n",
    "        </tr>\n",
    "    </thead>\n",
    "\t<tbody>\n",
    "\t\t<tr>\n",
    "\t\t\t<td>ST </td>\n",
    "\t\t\t<td>14 </td>\n",
    "\t\t</tr>\n",
    "\t\t<tr>\n",
    "\t\t\t<td> MT</td>\n",
    "\t\t\t<td> 6</td>\n",
    "\t\t</tr>\n",
    "\t\t<tr>\n",
    "\t\t\t<td> LT</td>\n",
    "\t\t\t<td> 5</td>\n",
    "\t\t</tr>\n",
    "\t</tbody>\n",
    "</table>\n",
    "\n",
    "So, I might failed in even all LT tasks but they are less in numbers."
   ]
  },
  {
   "cell_type": "code",
   "execution_count": 266,
   "metadata": {},
   "outputs": [
    {
     "data": {
      "image/png": "[encoded data removed]",
      "text/plain": [
       "<Figure size 655.5x432 with 3 Axes>"
      ]
     },
     "metadata": {},
     "output_type": "display_data"
    }
   ],
   "source": [
    "task_type_counts = data[\"type_of_task\"].value_counts().index\n",
    "g = sns.FacetGrid(data, row=\"type_of_task\", hue=\"target_acheived\", row_order=task_type_counts,\n",
    "                  height=2, aspect=4)\n",
    "g.map(sns.countplot, \"level_of_persistence\", alpha=0.7)\n",
    "g.add_legend()\n",
    "plt.show()"
   ]
  },
  {
   "cell_type": "code",
   "execution_count": 267,
   "metadata": {},
   "outputs": [
    {
     "data": {
      "text/html": [
       "<div>\n",
       "<style scoped>\n",
       "    .dataframe tbody tr th:only-of-type {\n",
       "        vertical-align: middle;\n",
       "    }\n",
       "\n",
       "    .dataframe tbody tr th {\n",
       "        vertical-align: top;\n",
       "    }\n",
       "\n",
       "    .dataframe thead th {\n",
       "        text-align: right;\n",
       "    }\n",
       "</style>\n",
       "<table border=\"1\" class=\"dataframe\">\n",
       "  <thead>\n",
       "    <tr style=\"text-align: right;\">\n",
       "      <th>type_of_task</th>\n",
       "      <th>LT</th>\n",
       "      <th>MT</th>\n",
       "      <th>ST</th>\n",
       "    </tr>\n",
       "    <tr>\n",
       "      <th>level_of_persistence</th>\n",
       "      <th></th>\n",
       "      <th></th>\n",
       "      <th></th>\n",
       "    </tr>\n",
       "  </thead>\n",
       "  <tbody>\n",
       "    <tr>\n",
       "      <td>1</td>\n",
       "      <td>0</td>\n",
       "      <td>0</td>\n",
       "      <td>1</td>\n",
       "    </tr>\n",
       "    <tr>\n",
       "      <td>2</td>\n",
       "      <td>3</td>\n",
       "      <td>0</td>\n",
       "      <td>0</td>\n",
       "    </tr>\n",
       "    <tr>\n",
       "      <td>3</td>\n",
       "      <td>0</td>\n",
       "      <td>2</td>\n",
       "      <td>2</td>\n",
       "    </tr>\n",
       "    <tr>\n",
       "      <td>4</td>\n",
       "      <td>0</td>\n",
       "      <td>1</td>\n",
       "      <td>0</td>\n",
       "    </tr>\n",
       "    <tr>\n",
       "      <td>5</td>\n",
       "      <td>1</td>\n",
       "      <td>2</td>\n",
       "      <td>2</td>\n",
       "    </tr>\n",
       "  </tbody>\n",
       "</table>\n",
       "</div>"
      ],
      "text/plain": [
       "type_of_task          LT  MT  ST\n",
       "level_of_persistence            \n",
       "1                      0   0   1\n",
       "2                      3   0   0\n",
       "3                      0   2   2\n",
       "4                      0   1   0\n",
       "5                      1   2   2"
      ]
     },
     "execution_count": 267,
     "metadata": {},
     "output_type": "execute_result"
    }
   ],
   "source": [
    "# Number of task I got failed to accomplished, based on type_of_task and level_of_persistence\n",
    "pd.pivot_table(\n",
    "    data[data[\"target_acheived\"]==\"N\"],\n",
    "    index=\"level_of_persistence\",\n",
    "    columns='type_of_task',\n",
    "    values='target_acheived',\n",
    "    aggfunc='count',\n",
    "    fill_value=0\n",
    ")"
   ]
  },
  {
   "cell_type": "markdown",
   "metadata": {},
   "source": [
    "That all was terrific!"
   ]
  },
  {
   "cell_type": "markdown",
   "metadata": {},
   "source": [
    "### Key Points for 2021\n",
    "    1. Try to avoid Parallelism\n",
    "    2. Break Long and Medium task in Small-term task.\n",
    "    3. This year college studies should not hinder me, so I might be able to be more productive this year.\n",
    "    4. I must try myself to engage for long duration. I need to be persistent.\n",
    "    5. I should try to complete the task in 1 or 2 attempt."
   ]
  },
  {
   "cell_type": "markdown",
   "metadata": {},
   "source": [
    "Whatever was in 2020, I am positive about 2021 I will practice. Might this year bring some fortune to me🤞."
   ]
  },
  {
   "cell_type": "code",
   "execution_count": null,
   "metadata": {},
   "outputs": [],
   "source": []
  }
 ],
 "metadata": {
  "kernelspec": {
   "display_name": "Python 3",
   "language": "python",
   "name": "python3"
  },
  "language_info": {
   "codemirror_mode": {
    "name": "ipython",
    "version": 3
   },
   "file_extension": ".py",
   "mimetype": "text/x-python",
   "name": "python",
   "nbconvert_exporter": "python",
   "pygments_lexer": "ipython3",
   "version": "3.7.4"
  }
 },
 "nbformat": 4,
 "nbformat_minor": 2
}
